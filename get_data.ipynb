{
 "cells": [
  {
   "cell_type": "code",
   "execution_count": 7,
   "id": "5ed70c42-3765-440e-aa58-3283d97eff93",
   "metadata": {},
   "outputs": [],
   "source": [
    "import requests\n",
    "import time\n",
    "import pandas as pd\n",
    "\n",
    "from sklearn.feature_extraction.text import CountVectorizer, TfidfVectorizer\n",
    "from nltk.sentiment.vader import SentimentIntensityAnalyzer\n",
    "\n",
    "from nltk import word_tokenize\n",
    "from nltk.stem import WordNetLemmatizer\n",
    "\n",
    "import matplotlib.pyplot as plt\n",
    "import seaborn as sns \n",
    "\n",
    "import warnings\n",
    "warnings.filterwarnings('ignore')\n",
    "pd.set_option('max_colwidth', 999)\n"
   ]
  },
  {
   "cell_type": "code",
   "execution_count": 27,
   "id": "0e6ade33-7fbe-4241-97a7-5eb50bf56082",
   "metadata": {
    "tags": []
   },
   "outputs": [],
   "source": [
    "def get_data(subreddit,epoch_time):\n",
    "    url =f'https://api.pushshift.io/reddit/search/submission?subreddit={subreddit}&author!=[deleted]&size=500&is_self=true&before={epoch_time}'\n",
    "    res = requests.get(url)\n",
    "    data = res.json()\n",
    "    return data['data']"
   ]
  },
  {
   "cell_type": "code",
   "execution_count": 24,
   "id": "90179ce8-19c4-4f59-80ba-59a7abd9a8d7",
   "metadata": {
    "tags": []
   },
   "outputs": [],
   "source": [
    "def get_posts(subreddit, post_count):\n",
    "    all_posts = []\n",
    "    epoch_time = int(time.time())\n",
    "    \n",
    "    while len(all_posts) < post_count:\n",
    "        all_posts.extend(get_data(subreddit, epoch_time))\n",
    "        if epoch_time != all_posts[-1]['created_utc']:\n",
    "            epoch_time = all_posts[-1]['created_utc']\n",
    "        else:\n",
    "            break\n",
    "    return all_posts"
   ]
  },
  {
   "cell_type": "code",
   "execution_count": 25,
   "id": "5a5f1e2a-28fa-404d-be84-2ee00a60c7cb",
   "metadata": {},
   "outputs": [],
   "source": [
    "def filter_posts(all_posts):\n",
    "    vetted_posts = [post for post in all_posts if \"author\" and \"selftext\" in post]\n",
    "    final_posts = []\n",
    "    for post in vetted_posts:\n",
    "        author = post['author']\n",
    "        selftext = post['selftext']\n",
    "        if (author != 'deleted' and author != 'removed' \n",
    "            and selftext != 'removed' and selftext != \"\"\n",
    "            and selftext != 'deleted' and selftext != '[removed]'\n",
    "            and selftext != '[deleted]'\n",
    "            and \"http://\" not in selftext and \"https://\" not in selftext):\n",
    "            final_posts.append(post)\n",
    "    \n",
    "    return final_posts "
   ]
  },
  {
   "cell_type": "markdown",
   "id": "a23e9958-e6df-4017-aff4-266afe75ae84",
   "metadata": {},
   "source": [
    "### Obtaining Data:"
   ]
  },
  {
   "cell_type": "markdown",
   "id": "1298f66b-f76e-4ef1-aee1-5379222ff3d6",
   "metadata": {},
   "source": [
    "#### Obtaining data from the r/mexicanfood subreddit:\n",
    "\n",
    "Note that after increasing the number of posts that I pull from the API for the mexican food subreddit, after filtering the posts for those that have useful text, the max number of useful posts I get is 1189. Let's work to see if this is enough data to make meaningful insight. "
   ]
  },
  {
   "cell_type": "code",
   "execution_count": 12,
   "id": "2563a6d9-2522-4c59-80f2-9be2b9ab5fcb",
   "metadata": {},
   "outputs": [],
   "source": [
    "real_mex = get_posts(\"mexicanfood\", 3000)"
   ]
  },
  {
   "cell_type": "code",
   "execution_count": 13,
   "id": "a7fcac46-5b67-4e2e-9887-9fce9e70f898",
   "metadata": {},
   "outputs": [
    {
     "data": {
      "text/plain": [
       "1568"
      ]
     },
     "execution_count": 13,
     "metadata": {},
     "output_type": "execute_result"
    }
   ],
   "source": [
    "len(real_mex)"
   ]
  },
  {
   "cell_type": "markdown",
   "id": "09dc4f1e-030b-42b0-9963-8e90c728eae0",
   "metadata": {},
   "source": [
    "Filtering from the data we pulled:"
   ]
  },
  {
   "cell_type": "code",
   "execution_count": 14,
   "id": "52a88239-2c6a-4396-905a-936a25553058",
   "metadata": {},
   "outputs": [],
   "source": [
    "vetted_mex = filter_posts(real_mex)"
   ]
  },
  {
   "cell_type": "code",
   "execution_count": 15,
   "id": "ddfd494c-c2f9-4774-8bc8-ba971b3629c5",
   "metadata": {},
   "outputs": [
    {
     "data": {
      "text/plain": [
       "1189"
      ]
     },
     "execution_count": 15,
     "metadata": {},
     "output_type": "execute_result"
    }
   ],
   "source": [
    "len(vetted_mex)"
   ]
  },
  {
   "cell_type": "code",
   "execution_count": 16,
   "id": "41d1c33d-6ca8-444a-9048-4a399a0620d7",
   "metadata": {},
   "outputs": [],
   "source": [
    "mexican_food = pd.DataFrame(vetted_mex)"
   ]
  },
  {
   "cell_type": "code",
   "execution_count": 17,
   "id": "3ce4c6c8-b217-4930-9e0a-e3c5e1d4ea35",
   "metadata": {},
   "outputs": [
    {
     "data": {
      "text/plain": [
       "(1189, 84)"
      ]
     },
     "execution_count": 17,
     "metadata": {},
     "output_type": "execute_result"
    }
   ],
   "source": [
    "mexican_food.shape"
   ]
  },
  {
   "cell_type": "markdown",
   "id": "43a97cbd-9739-47b6-a43b-96fb19828338",
   "metadata": {},
   "source": [
    "#### Obtaining data from the r/tacobell subreddit:\n",
    "\n",
    "In order to avoid having unbalanced data, I have to make a smaller initial pull of posts from the tacobell subreddit. I try to work with about the same number of posts as the mexican food subreddit. "
   ]
  },
  {
   "cell_type": "code",
   "execution_count": 28,
   "id": "c7b4deb2-7a5d-480a-9015-0f460596aa1a",
   "metadata": {},
   "outputs": [],
   "source": [
    "tacobell_posts = get_posts(\"tacobell\", 2500)"
   ]
  },
  {
   "cell_type": "markdown",
   "id": "e56cf147-7dd1-4021-a82a-9b7a96362111",
   "metadata": {},
   "source": [
    "Filtering the data we pulled"
   ]
  },
  {
   "cell_type": "code",
   "execution_count": 29,
   "id": "275d1641-8d16-4872-8cbb-b8d5d43d0b50",
   "metadata": {},
   "outputs": [],
   "source": [
    "vetted_tacobell = filter_posts(tacobell_posts)"
   ]
  },
  {
   "cell_type": "code",
   "execution_count": 30,
   "id": "1db83991-9958-4bc5-b325-257de6af9cd5",
   "metadata": {},
   "outputs": [
    {
     "data": {
      "text/plain": [
       "1931"
      ]
     },
     "execution_count": 30,
     "metadata": {},
     "output_type": "execute_result"
    }
   ],
   "source": [
    "len(vetted_tacobell)"
   ]
  },
  {
   "cell_type": "code",
   "execution_count": 31,
   "id": "30ea3172-d3e8-4574-a6a5-9940f38d5f6c",
   "metadata": {},
   "outputs": [],
   "source": [
    "snip_tacobell = vetted_tacobell[0:1190]"
   ]
  },
  {
   "cell_type": "code",
   "execution_count": 32,
   "id": "79c9504a-e684-4637-b691-4eb1e84bd2f8",
   "metadata": {},
   "outputs": [],
   "source": [
    "taco_bell = pd.DataFrame(snip_tacobell)"
   ]
  },
  {
   "cell_type": "code",
   "execution_count": 33,
   "id": "1024d663-cc4e-4c3c-894b-fec9fbf28939",
   "metadata": {},
   "outputs": [
    {
     "data": {
      "text/html": [
       "<div>\n",
       "<style scoped>\n",
       "    .dataframe tbody tr th:only-of-type {\n",
       "        vertical-align: middle;\n",
       "    }\n",
       "\n",
       "    .dataframe tbody tr th {\n",
       "        vertical-align: top;\n",
       "    }\n",
       "\n",
       "    .dataframe thead th {\n",
       "        text-align: right;\n",
       "    }\n",
       "</style>\n",
       "<table border=\"1\" class=\"dataframe\">\n",
       "  <thead>\n",
       "    <tr style=\"text-align: right;\">\n",
       "      <th></th>\n",
       "      <th>all_awardings</th>\n",
       "      <th>allow_live_comments</th>\n",
       "      <th>author</th>\n",
       "      <th>author_flair_css_class</th>\n",
       "      <th>author_flair_richtext</th>\n",
       "      <th>author_flair_text</th>\n",
       "      <th>author_flair_type</th>\n",
       "      <th>author_fullname</th>\n",
       "      <th>author_is_blocked</th>\n",
       "      <th>author_patreon_flair</th>\n",
       "      <th>...</th>\n",
       "      <th>whitelist_status</th>\n",
       "      <th>wls</th>\n",
       "      <th>link_flair_css_class</th>\n",
       "      <th>link_flair_template_id</th>\n",
       "      <th>link_flair_text</th>\n",
       "      <th>author_flair_background_color</th>\n",
       "      <th>author_flair_template_id</th>\n",
       "      <th>author_flair_text_color</th>\n",
       "      <th>author_cakeday</th>\n",
       "      <th>edited</th>\n",
       "    </tr>\n",
       "  </thead>\n",
       "  <tbody>\n",
       "    <tr>\n",
       "      <th>0</th>\n",
       "      <td>[]</td>\n",
       "      <td>False</td>\n",
       "      <td>mooshakez</td>\n",
       "      <td>None</td>\n",
       "      <td>[]</td>\n",
       "      <td>None</td>\n",
       "      <td>text</td>\n",
       "      <td>t2_lw6ry694</td>\n",
       "      <td>False</td>\n",
       "      <td>False</td>\n",
       "      <td>...</td>\n",
       "      <td>all_ads</td>\n",
       "      <td>6</td>\n",
       "      <td>NaN</td>\n",
       "      <td>NaN</td>\n",
       "      <td>NaN</td>\n",
       "      <td>NaN</td>\n",
       "      <td>NaN</td>\n",
       "      <td>NaN</td>\n",
       "      <td>NaN</td>\n",
       "      <td>NaN</td>\n",
       "    </tr>\n",
       "    <tr>\n",
       "      <th>1</th>\n",
       "      <td>[]</td>\n",
       "      <td>False</td>\n",
       "      <td>kevinmattress</td>\n",
       "      <td>None</td>\n",
       "      <td>[]</td>\n",
       "      <td>None</td>\n",
       "      <td>text</td>\n",
       "      <td>t2_7og4ebf4</td>\n",
       "      <td>False</td>\n",
       "      <td>False</td>\n",
       "      <td>...</td>\n",
       "      <td>all_ads</td>\n",
       "      <td>6</td>\n",
       "      <td>one</td>\n",
       "      <td>97b37a16-d95b-11e3-a816-12313b0a74a7</td>\n",
       "      <td>Discussion</td>\n",
       "      <td>NaN</td>\n",
       "      <td>NaN</td>\n",
       "      <td>NaN</td>\n",
       "      <td>NaN</td>\n",
       "      <td>NaN</td>\n",
       "    </tr>\n",
       "    <tr>\n",
       "      <th>2</th>\n",
       "      <td>[]</td>\n",
       "      <td>False</td>\n",
       "      <td>improvius</td>\n",
       "      <td>None</td>\n",
       "      <td>[]</td>\n",
       "      <td>None</td>\n",
       "      <td>text</td>\n",
       "      <td>t2_1107vz</td>\n",
       "      <td>False</td>\n",
       "      <td>False</td>\n",
       "      <td>...</td>\n",
       "      <td>all_ads</td>\n",
       "      <td>6</td>\n",
       "      <td>NaN</td>\n",
       "      <td>7a19695c-13bc-11e9-a8c6-0e11312a4076</td>\n",
       "      <td>TB App/Website</td>\n",
       "      <td>NaN</td>\n",
       "      <td>NaN</td>\n",
       "      <td>NaN</td>\n",
       "      <td>NaN</td>\n",
       "      <td>NaN</td>\n",
       "    </tr>\n",
       "    <tr>\n",
       "      <th>3</th>\n",
       "      <td>[]</td>\n",
       "      <td>False</td>\n",
       "      <td>lostsurfer24t</td>\n",
       "      <td>None</td>\n",
       "      <td>[]</td>\n",
       "      <td>None</td>\n",
       "      <td>text</td>\n",
       "      <td>t2_jyfu21b0</td>\n",
       "      <td>False</td>\n",
       "      <td>False</td>\n",
       "      <td>...</td>\n",
       "      <td>all_ads</td>\n",
       "      <td>6</td>\n",
       "      <td>NaN</td>\n",
       "      <td>NaN</td>\n",
       "      <td>NaN</td>\n",
       "      <td>NaN</td>\n",
       "      <td>NaN</td>\n",
       "      <td>NaN</td>\n",
       "      <td>NaN</td>\n",
       "      <td>NaN</td>\n",
       "    </tr>\n",
       "    <tr>\n",
       "      <th>4</th>\n",
       "      <td>[]</td>\n",
       "      <td>False</td>\n",
       "      <td>bannanmonk</td>\n",
       "      <td>None</td>\n",
       "      <td>[]</td>\n",
       "      <td>None</td>\n",
       "      <td>text</td>\n",
       "      <td>t2_2bpvfqav</td>\n",
       "      <td>False</td>\n",
       "      <td>False</td>\n",
       "      <td>...</td>\n",
       "      <td>all_ads</td>\n",
       "      <td>6</td>\n",
       "      <td>NaN</td>\n",
       "      <td>NaN</td>\n",
       "      <td>NaN</td>\n",
       "      <td>NaN</td>\n",
       "      <td>NaN</td>\n",
       "      <td>NaN</td>\n",
       "      <td>NaN</td>\n",
       "      <td>NaN</td>\n",
       "    </tr>\n",
       "  </tbody>\n",
       "</table>\n",
       "<p>5 rows × 67 columns</p>\n",
       "</div>"
      ],
      "text/plain": [
       "  all_awardings  allow_live_comments         author author_flair_css_class  \\\n",
       "0            []                False      mooshakez                   None   \n",
       "1            []                False  kevinmattress                   None   \n",
       "2            []                False      improvius                   None   \n",
       "3            []                False  lostsurfer24t                   None   \n",
       "4            []                False     bannanmonk                   None   \n",
       "\n",
       "  author_flair_richtext author_flair_text author_flair_type author_fullname  \\\n",
       "0                    []              None              text     t2_lw6ry694   \n",
       "1                    []              None              text     t2_7og4ebf4   \n",
       "2                    []              None              text       t2_1107vz   \n",
       "3                    []              None              text     t2_jyfu21b0   \n",
       "4                    []              None              text     t2_2bpvfqav   \n",
       "\n",
       "   author_is_blocked  author_patreon_flair  ...  whitelist_status wls  \\\n",
       "0              False                 False  ...           all_ads   6   \n",
       "1              False                 False  ...           all_ads   6   \n",
       "2              False                 False  ...           all_ads   6   \n",
       "3              False                 False  ...           all_ads   6   \n",
       "4              False                 False  ...           all_ads   6   \n",
       "\n",
       "   link_flair_css_class                link_flair_template_id  \\\n",
       "0                   NaN                                   NaN   \n",
       "1                   one  97b37a16-d95b-11e3-a816-12313b0a74a7   \n",
       "2                   NaN  7a19695c-13bc-11e9-a8c6-0e11312a4076   \n",
       "3                   NaN                                   NaN   \n",
       "4                   NaN                                   NaN   \n",
       "\n",
       "   link_flair_text author_flair_background_color author_flair_template_id  \\\n",
       "0              NaN                           NaN                      NaN   \n",
       "1       Discussion                           NaN                      NaN   \n",
       "2   TB App/Website                           NaN                      NaN   \n",
       "3              NaN                           NaN                      NaN   \n",
       "4              NaN                           NaN                      NaN   \n",
       "\n",
       "  author_flair_text_color author_cakeday  edited  \n",
       "0                     NaN            NaN     NaN  \n",
       "1                     NaN            NaN     NaN  \n",
       "2                     NaN            NaN     NaN  \n",
       "3                     NaN            NaN     NaN  \n",
       "4                     NaN            NaN     NaN  \n",
       "\n",
       "[5 rows x 67 columns]"
      ]
     },
     "execution_count": 33,
     "metadata": {},
     "output_type": "execute_result"
    }
   ],
   "source": [
    "taco_bell.head()"
   ]
  },
  {
   "cell_type": "markdown",
   "id": "d9344ef3-7ed3-4e61-8ae2-772ce22c1adb",
   "metadata": {},
   "source": [
    "#### Create a columns specifying which subreddit the text is coming from"
   ]
  },
  {
   "cell_type": "code",
   "execution_count": 34,
   "id": "8a47904f-378f-4544-8659-50cc666478ff",
   "metadata": {},
   "outputs": [],
   "source": [
    "taco_bell['subreddit'] = 'tacobell'"
   ]
  },
  {
   "cell_type": "code",
   "execution_count": 35,
   "id": "e8d144ac-72bc-47c5-a6a4-57b15f063cef",
   "metadata": {},
   "outputs": [],
   "source": [
    "mexican_food['subreddit'] = 'mexicanfood'"
   ]
  },
  {
   "cell_type": "markdown",
   "id": "83dd3fe1-4644-4042-86bd-1daa8aa84f7c",
   "metadata": {},
   "source": [
    "#### Check for duplicates"
   ]
  },
  {
   "cell_type": "code",
   "execution_count": 36,
   "id": "7cbe7d87-d0ff-4e82-a44e-bdf98ceb72e0",
   "metadata": {},
   "outputs": [
    {
     "data": {
      "text/plain": [
       "1187"
      ]
     },
     "execution_count": 36,
     "metadata": {},
     "output_type": "execute_result"
    }
   ],
   "source": [
    "taco_bell['selftext'].nunique()"
   ]
  },
  {
   "cell_type": "code",
   "execution_count": 37,
   "id": "2b5da64d-f1c8-4661-9e01-1805d42d4e69",
   "metadata": {},
   "outputs": [],
   "source": [
    "taco_bell.drop_duplicates('selftext', inplace=True)"
   ]
  },
  {
   "cell_type": "code",
   "execution_count": 38,
   "id": "56bbae92-69dd-4a92-88a1-0f40b6a46459",
   "metadata": {},
   "outputs": [
    {
     "data": {
      "text/plain": [
       "1185"
      ]
     },
     "execution_count": 38,
     "metadata": {},
     "output_type": "execute_result"
    }
   ],
   "source": [
    "mexican_food['selftext'].nunique()"
   ]
  },
  {
   "cell_type": "code",
   "execution_count": 39,
   "id": "566c2535-a10f-4da3-a7fe-d04c9cf23b62",
   "metadata": {},
   "outputs": [],
   "source": [
    "mexican_food.drop_duplicates('selftext', inplace=True)"
   ]
  },
  {
   "cell_type": "markdown",
   "id": "17b0bc58-9781-4c8b-8737-fe9b2077190a",
   "metadata": {},
   "source": [
    "#### Export my dataframes"
   ]
  },
  {
   "cell_type": "code",
   "execution_count": 40,
   "id": "471df4ff-31d0-4d34-b2f2-df6886790e9c",
   "metadata": {},
   "outputs": [],
   "source": [
    "taco_bell.to_csv('./Data/tacobell.csv', index=False)"
   ]
  },
  {
   "cell_type": "code",
   "execution_count": 41,
   "id": "52e7fb87-61d9-4e5a-a38e-99f1cc264203",
   "metadata": {},
   "outputs": [],
   "source": [
    "mexican_food.to_csv('./Data/mex_food.csv', index=False)"
   ]
  },
  {
   "cell_type": "code",
   "execution_count": null,
   "id": "35b1dd71-e916-4e60-8863-fcd30c7b814c",
   "metadata": {},
   "outputs": [],
   "source": []
  }
 ],
 "metadata": {
  "kernelspec": {
   "display_name": "Python 3 (ipykernel)",
   "language": "python",
   "name": "python3"
  },
  "language_info": {
   "codemirror_mode": {
    "name": "ipython",
    "version": 3
   },
   "file_extension": ".py",
   "mimetype": "text/x-python",
   "name": "python",
   "nbconvert_exporter": "python",
   "pygments_lexer": "ipython3",
   "version": "3.9.7"
  }
 },
 "nbformat": 4,
 "nbformat_minor": 5
}
